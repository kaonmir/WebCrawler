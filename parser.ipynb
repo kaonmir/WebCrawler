{
 "cells": [
  {
   "cell_type": "code",
   "execution_count": 1,
   "metadata": {},
   "outputs": [],
   "source": [
    "import requests\n",
    "from bs4 import BeautifulSoup as bs"
   ]
  },
  {
   "cell_type": "code",
   "execution_count": 2,
   "metadata": {},
   "outputs": [],
   "source": [
    "s = requests.Session()"
   ]
  },
  {
   "cell_type": "code",
   "execution_count": 3,
   "metadata": {},
   "outputs": [],
   "source": [
    "LOGIN_INFO = {\n",
    "    'userId' : 'thswpvm',\n",
    "    'userPassword' : '39tiwqow4j4!'\n",
    "}"
   ]
  },
  {
   "cell_type": "code",
   "execution_count": 6,
   "metadata": {
    "scrolled": true
   },
   "outputs": [
    {
     "name": "stdout",
     "output_type": "stream",
     "text": [
      "d25439c0-3648-47da-b9ea-0e82657eeec8\n",
      "{'userId': 'thswpvm', 'userPassword': '39tiwqow4j4!', 'csrf': 'd25439c0-3648-47da-b9ea-0e82657eeec8'}\n",
      "403\n",
      "회원중고장터 게시판 이용규칙\n",
      "\n",
      "\n",
      "\n",
      "\n",
      "\n",
      "  회원중고장터 게시판은 회원간의 중고 제품 거래를 위한 게시판입니다.\n",
      "거래시 직거래 또는 안전거래사이트( http://www.unicro.co.kr 등)를 이용하여 장터사기를 미연에 방지하시기 바랍니다.\n",
      "거래전 사기피해 정보사이트( http://www.thecheat.co.kr )를 검색하여주시기 바랍니다.\n",
      "\n",
      "회원중고장터는 \n",
      "\n",
      "가입일 : 200일 이상\n",
      "로그인 : 80회 이상\n",
      "게시물수 : 20개 이상\n",
      "댓글수 : 100개 이상\n",
      "\n",
      "을 만족하여야 거래게시물을 등록하실 수 있습니다.\n",
      "\n",
      "0. [사이트 이용규칙]을 준수합니다.\n",
      "\n",
      "1. 게시물 등록시 아래 규칙을 준수합니다.\n",
      "(1) 전문 업자의 활동을 금지합니다.\n",
      "\n",
      "전문적인 판매 또는 구매를 위한 활동이 확인되는 경우 게시물은 삭제되며, 작성자는 이용이 제한될 수 있습니다.\n",
      "\n",
      "(2) 장터 양식을 빠짐없이 입력해야 합니다.\n",
      "\n",
      "기재사항을 누락하거나, 양식을 임의로 변경해서는 안됩니다.\n",
      "거래자정보가 입력되지 않거나 가격이 입력되지 않는 게시물 또는 경매성 게시물은 올릴 수 없습니다.\n",
      "모바일 기기 등으로 게시물 등록할 경우도 양식은 반드시 입력되어야 합니다.\n",
      "\n",
      "(3) 거래사고 발생 가능성이 높은 쿠폰, 가상화폐, 대리구매, 온라인게임 계정이나 아이템의 거래를 금지합니다.\n",
      "(4) 시세보다 비싸다는 댓글, 판매가격보다 싼 물품의 링크 등 불필요한 가격시비를 하지 않습니다.\n",
      "2. 아래의 상품은 관련법에 의해 거래가 금지됩니다.\n",
      "\n",
      "군용품 (총포류, 대검류)\n",
      "이미테이션 물품\n",
      "발행자가 비매품으로 발행했거나 통신판매 등을 통해 전매를 금지한 철도 승차권, 사용제한 상품권 등 유가증권\n",
      "유통검정이나 검사를 통과하지 못한 공산품\n",
      "알콜 1도 이상의 주류\n",
      "모든 담배\n",
      "의약품 및 의료기기\n",
      "건강기능식품\n",
      "성인용품\n",
      "허위 또는 과장 광고한 모든 물품\n",
      "지적재산권 등 개인 또는 법인이나 특정 단체의 권리를 침해하는 물품\n",
      "방송통신기자재 등의 적합성평가를 받지 않은 품목 (전파법 58조 및 84조 의거)\n",
      "기타 관계법령에 저촉되는 물품\n",
      "\n",
      "\n",
      "\n",
      "\n",
      "\n"
     ]
    }
   ],
   "source": [
    "with requests.Session() as s:\n",
    "    first_page = s.get(\"https://www.clien.net/service/\")\n",
    "    html = first_page.text\n",
    "    soup = bs(html, 'html.parser')\n",
    "    csrf = soup.find('input', {'name': '_csrf'})\n",
    "    print(csrf['value'])\n",
    "    \n",
    "    LOGIN_INFO = {**LOGIN_INFO, **{'csrf': csrf['value']}}\n",
    "    print(LOGIN_INFO)\n",
    "    \n",
    "    login_req = s.post('https://www.clien.net/service/login', data=LOGIN_INFO)\n",
    "    print(login_req.status_code)\n",
    "    \n",
    "    post_one = s.get('https://www.clien.net/service/board/rule/10707408')\n",
    "    soup = bs(post_one.text, 'html.parser')\n",
    "    \n",
    "    title = soup.select('#div_content > div.post_title.symph_row > h3 > span')\n",
    "    content = soup.select('#div_content > div.post_view > div.post_content > article ')\n",
    "    \n",
    "    print(title[0].text)\n",
    "    print(content[0].text)"
   ]
  },
  {
   "cell_type": "code",
   "execution_count": null,
   "metadata": {},
   "outputs": [],
   "source": []
  }
 ],
 "metadata": {
  "kernelspec": {
   "display_name": "Python 3",
   "language": "python",
   "name": "python3"
  },
  "language_info": {
   "codemirror_mode": {
    "name": "ipython",
    "version": 3
   },
   "file_extension": ".py",
   "mimetype": "text/x-python",
   "name": "python",
   "nbconvert_exporter": "python",
   "pygments_lexer": "ipython3",
   "version": "3.7.1"
  }
 },
 "nbformat": 4,
 "nbformat_minor": 2
}
