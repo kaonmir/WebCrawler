{
 "cells": [
  {
   "cell_type": "code",
   "execution_count": 1,
   "metadata": {},
   "outputs": [],
   "source": [
    "import requests\n",
    "from bs4 import BeautifulSoup as bs"
   ]
  },
  {
   "cell_type": "code",
   "execution_count": 2,
   "metadata": {},
   "outputs": [],
   "source": [
    "res = requests.get(\"http://media.daum.net/digital/\")\n",
    "soup = bs(res.content, \"html.parser\")"
   ]
  },
  {
   "cell_type": "code",
   "execution_count": 3,
   "metadata": {},
   "outputs": [
    {
     "name": "stdout",
     "output_type": "stream",
     "text": [
      "페이스북·인스타그램 '먹통'의 상시화 시대?..이용자들 발만 '동동'\n",
      "'LG V50씽큐' 출시 연기검토..안터지는 5G서비스 어떻기에\n",
      "첫 관측 블랙홀 이름 하와이어 '포베히'로 가닥 잡나\n",
      "\"5G폰 늦어도 된다\" 애플, 퀄컴과 30조원 특허전쟁 시작\n",
      "한 달 만에 또 대규모 접속 장애..신뢰 잃는 '페이스북'\n",
      "올해 법안 처리 '0건' 과방위..법안소위도 고작 '1시간'\n",
      "韓 클라우드 IDC센터 세운 구글, 세금 제대로 낼까\n",
      "조여오는 규제 압박에 몸 낮추는 유통공룡 아마존\n",
      "닐슨, 사흘째 시청률 지연..\"정상화 시점 알기 어려워\"\n",
      "①숫자로 드러난 크립토 겨울, 곳간이 비어 간다\n",
      "中 인터넷 정책 추종하는 국가 늘어..美 패권 위협\n",
      "화성産 첫 와인은 화이트 와인\n",
      "https 시간당 1백 곳 '차단'..모두 '불법'?\n",
      "유료방송 M&A, 지금은 맞고 그때는 틀리나?\n",
      "SF의 블랙홀\n",
      "5G시대 LTE 끊김현상..왜?\n",
      "20년간 군림한 제왕 '리니지'의 역사 Part. 2\n",
      "익숙하지만, 낯선 재미 '2079 게이트식스'\n",
      "트라하·BTS월드, 맞붙을까\n",
      "'삐~' 도난방지기의 비밀\n",
      "10조원 손해가 나도..XBOX vs PS 출혈경쟁\n",
      "억만장자 꿈이 현실로..위성 쏘는 세계 최대 비행기 떴다\n",
      "\"핸드폰 고장 난 줄\"..KT고객, LTE 속도저하 불만 폭주\n",
      "韓 클라우드 IDC센터 세운 구글, 세금 제대로 낼까\n",
      "김정주 넥슨 창업주, 美 가상화폐 투자대행 업체 '타고미' 투자\n",
      "\"글로벌 빅파마 성공 못한 치매 신약, 한약재로 해낼 것\"\n",
      "백두산 화산 폭발 대비, 남북 참여 국제공동연구 시급\n",
      "\"5G폰 늦어도 된다\" 애플, 퀄컴과 30조원 특허전쟁 시작\n",
      "넷플릭스, 고작 1625원..동영상시장 잠식\n",
      "새로운 사용자 경험을 위해 스마트폰은 진화한다\n",
      "삼성전자 갤럭시폴드, 美 예판 하루 만에 '매진'\n",
      "트럼프 '5G 1등' 선언에 '퍼스트무버' 이통사들 긴장\n",
      "중국의 유통혁신 실험..펄떡이는 새우도 30분 만에 집으로\n",
      "\"폐암 말기입니다\" 진단, 알고보니 해킹..AI 도입 늘수록 병원 해킹 위험 커진다\n"
     ]
    }
   ],
   "source": [
    "titles = soup.find_all('a', 'link_txt')\n",
    "\n",
    "for title in titles:\n",
    "    if(str(title).find('article')!=-1 and str(title).find('sub')==-1):\n",
    "        print(title.get_text().strip())"
   ]
  },
  {
   "cell_type": "code",
   "execution_count": null,
   "metadata": {},
   "outputs": [],
   "source": []
  }
 ],
 "metadata": {
  "kernelspec": {
   "display_name": "Python 3",
   "language": "python",
   "name": "python3"
  },
  "language_info": {
   "codemirror_mode": {
    "name": "ipython",
    "version": 3
   },
   "file_extension": ".py",
   "mimetype": "text/x-python",
   "name": "python",
   "nbconvert_exporter": "python",
   "pygments_lexer": "ipython3",
   "version": "3.7.1"
  }
 },
 "nbformat": 4,
 "nbformat_minor": 2
}
