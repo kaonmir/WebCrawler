{
 "cells": [
  {
   "cell_type": "code",
   "execution_count": 1,
   "metadata": {},
   "outputs": [],
   "source": [
    "import requests\n",
    "import urllib.request\n",
    "import json"
   ]
  },
  {
   "cell_type": "code",
   "execution_count": 2,
   "metadata": {},
   "outputs": [],
   "source": [
    "client_Key = \"Ii2uBSOQWtucmfI52l4H\"\n",
    "client_secret = \"NY6CW3Ly6S\""
   ]
  },
  {
   "cell_type": "code",
   "execution_count": 23,
   "metadata": {},
   "outputs": [
    {
     "name": "stdout",
     "output_type": "stream",
     "text": [
      "%EC%8A%A4%EB%A7%88%ED%8A%B8%ED%8F%B0\n"
     ]
    }
   ],
   "source": [
    "encText = urllib.parse.quote_plus(\"스마트폰\")\n",
    "#print(encText)"
   ]
  },
  {
   "cell_type": "code",
   "execution_count": 4,
   "metadata": {},
   "outputs": [],
   "source": [
    "naver_url = \"https://openapi.naver.com/v1/search/news.json?query=\" + encText\n",
    "request = urllib.request.Request(naver_url)\n",
    "request.add_header(\"X-Naver-Client-Id\", client_Key)\n",
    "request.add_header(\"X-Naver-Client-Secret\", client_secret)"
   ]
  },
  {
   "cell_type": "code",
   "execution_count": 5,
   "metadata": {},
   "outputs": [],
   "source": [
    "response = urllib.request.urlopen(request)\n",
    "rescode = response.getcode()"
   ]
  },
  {
   "cell_type": "code",
   "execution_count": 6,
   "metadata": {},
   "outputs": [],
   "source": [
    "if(rescode == 200):\n",
    "    response_body = response.read()\n",
    "    data = json.loads(response_body)\n",
    "else:\n",
    "    print(\"Error Code:\" + rescode)"
   ]
  },
  {
   "cell_type": "code",
   "execution_count": 8,
   "metadata": {},
   "outputs": [
    {
     "data": {
      "text/plain": [
       "dict_keys(['lastBuildDate', 'total', 'start', 'display', 'items'])"
      ]
     },
     "execution_count": 8,
     "metadata": {},
     "output_type": "execute_result"
    }
   ],
   "source": [
    "data.keys()"
   ]
  },
  {
   "cell_type": "code",
   "execution_count": 22,
   "metadata": {},
   "outputs": [
    {
     "name": "stdout",
     "output_type": "stream",
     "text": [
      "[바이오코리아 2019] <b>스마트</b>메디칼디바이스, <b>스마트폰</b> 연동 EMS 홈트레이닝 '...\n",
      "새 출발한 'KB 모바일 대출' 승승장구\n",
      "[특징주] 크루셜텍, 삼성전자 <b>스마트폰</b>에 지문인식모듈 첫 공급 ↑\n",
      "화웨이 창업자 &quot;애플에도 5G 칩 공급의향 있어&quot;\n",
      "서울시. 7월부터 5등급 경유차 '서울 종로구·중구' 운행 제한\n",
      "&quot;대한민국 5G 성공 전략이 없다&quot;\n",
      "삼성전자, 인도에 8만 원대 초저가폰 출시\n",
      "웅진씽크빅, '놀이의 발견' 플랫폼 론칭\n",
      "LGU+, 연내 5G 실감콘텐츠 1만5천개 확보\n",
      "억울한 남자들│① 억울한 남자, 비명을 지르는 여자\n"
     ]
    }
   ],
   "source": [
    "for item in data['items']:\n",
    "    print(item['title'])"
   ]
  },
  {
   "cell_type": "code",
   "execution_count": null,
   "metadata": {},
   "outputs": [],
   "source": []
  }
 ],
 "metadata": {
  "kernelspec": {
   "display_name": "Python 3",
   "language": "python",
   "name": "python3"
  },
  "language_info": {
   "codemirror_mode": {
    "name": "ipython",
    "version": 3
   },
   "file_extension": ".py",
   "mimetype": "text/x-python",
   "name": "python",
   "nbconvert_exporter": "python",
   "pygments_lexer": "ipython3",
   "version": "3.7.1"
  }
 },
 "nbformat": 4,
 "nbformat_minor": 2
}
