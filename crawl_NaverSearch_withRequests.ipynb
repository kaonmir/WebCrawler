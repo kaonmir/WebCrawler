{
 "cells": [
  {
   "cell_type": "markdown",
   "metadata": {},
   "source": [
    "### 네이버 검색 api를 활용한 크롤링 프로그램\n",
    "###### https://developers.naver.com/docs/search/blog/"
   ]
  },
  {
   "cell_type": "code",
   "execution_count": 1,
   "metadata": {},
   "outputs": [],
   "source": [
    "import requests"
   ]
  },
  {
   "cell_type": "code",
   "execution_count": 2,
   "metadata": {},
   "outputs": [],
   "source": [
    "client_Key = \"Ii2uBSOQWtucmfI52l4H\"\n",
    "client_secret = \"NY6CW3Ly6S\""
   ]
  },
  {
   "cell_type": "code",
   "execution_count": 3,
   "metadata": {},
   "outputs": [],
   "source": [
    "keyword = \"부동산\"\n",
    "numOfOutput = 10\n",
    "naver_url = \"https://openapi.naver.com/v1/search/news.json?query=\" + keyword + \"&display=\" + str(numOfOutput)"
   ]
  },
  {
   "cell_type": "code",
   "execution_count": 4,
   "metadata": {},
   "outputs": [],
   "source": [
    "header_params = {\n",
    "    \"X-Naver-Client-Id\": client_Key,\n",
    "    \"X-Naver-Client-Secret\": client_secret\n",
    "}"
   ]
  },
  {
   "cell_type": "code",
   "execution_count": 5,
   "metadata": {},
   "outputs": [],
   "source": [
    "response = requests.get(naver_url, headers = header_params)"
   ]
  },
  {
   "cell_type": "code",
   "execution_count": 6,
   "metadata": {},
   "outputs": [],
   "source": [
    "if(response.status_code == 200):\n",
    "    data = response.json()\n",
    "else:\n",
    "    print(\"Error Code:\" + response.status_code)"
   ]
  },
  {
   "cell_type": "code",
   "execution_count": 7,
   "metadata": {},
   "outputs": [
    {
     "name": "stdout",
     "output_type": "stream",
     "text": [
      "착한 분양가로 시선 집중 '구로 오네뜨시티' 오피스텔\n",
      "함양군, 개별주택가격심의 <b>부동산</b>가격공시위원회 열어\n",
      "예보, 파산저축은행 담보 PF<b>부동산</b>등 매각설명회 개최\n",
      "우리은행, 기회의 땅 베트남 투자 세미나 실시\n",
      "신혼부부 위한 오피스텔 주거공간 ‘다산휴먼파크’ 공급\n",
      "카카오페이 투자, 4개월 만에 투자금 400억 돌파\n",
      "서울 주택매매 심리 4개월째 보합… 관망세 지속\n",
      "나주시, 2019년 개별공시지가 열람 및 의견 접수\n",
      "<b>부동산</b> 위축에도…아파트 분양가 작년 대비 7.2% ↑\n",
      "광주시, 고액상습 체납자 가택 수색한다\n"
     ]
    }
   ],
   "source": [
    "for i in range(len(data['items'])):\n",
    "    print(data['items'][i]['title'])"
   ]
  },
  {
   "cell_type": "code",
   "execution_count": 8,
   "metadata": {},
   "outputs": [
    {
     "name": "stdout",
     "output_type": "stream",
     "text": [
      "2536352\n",
      "10\n"
     ]
    }
   ],
   "source": [
    "print(data['total'])\n",
    "print(data['display'])"
   ]
  },
  {
   "cell_type": "code",
   "execution_count": 9,
   "metadata": {},
   "outputs": [
    {
     "name": "stdout",
     "output_type": "stream",
     "text": [
      "'구로 오네뜨시티'는 합리적인 분양가를 책정해 가격경쟁력을 높였다.특히 해당 오피스텔은 5년 전의 분양가로 공급될 예정이어서 타 수익형 <b>부동산</b>에 비해 안정적인 상품이라는 평가도 받고 있다. '구로 오네뜨시티... \n"
     ]
    }
   ],
   "source": [
    "print(data['items'][0]['description'])"
   ]
  },
  {
   "cell_type": "code",
   "execution_count": null,
   "metadata": {},
   "outputs": [],
   "source": []
  }
 ],
 "metadata": {
  "kernelspec": {
   "display_name": "Python 3",
   "language": "python",
   "name": "python3"
  },
  "language_info": {
   "codemirror_mode": {
    "name": "ipython",
    "version": 3
   },
   "file_extension": ".py",
   "mimetype": "text/x-python",
   "name": "python",
   "nbconvert_exporter": "python",
   "pygments_lexer": "ipython3",
   "version": "3.7.1"
  }
 },
 "nbformat": 4,
 "nbformat_minor": 2
}
