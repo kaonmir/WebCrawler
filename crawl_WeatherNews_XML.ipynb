{
 "cells": [
  {
   "cell_type": "code",
   "execution_count": 1,
   "metadata": {},
   "outputs": [],
   "source": [
    "from bs4 import BeautifulSoup\n",
    "import requests\n",
    "import datetime\n",
    "import json"
   ]
  },
  {
   "cell_type": "code",
   "execution_count": 3,
   "metadata": {},
   "outputs": [],
   "source": [
    "ServiceKey = \"WeFp%2BzXaH8sQ%2FIcelOsscY%2F2TdSs8g0xKsXQH7qPc2I8Wxna7b%2F4rV6n7hJ6JJO8DwD86z1nKEFh3j1srzAYjg%3D%3D\"\n",
    "regid = \"11A00101\""
   ]
  },
  {
   "cell_type": "code",
   "execution_count": 4,
   "metadata": {},
   "outputs": [],
   "source": [
    "info_url = \"http://newsky2.kma.go.kr/service/VilageFrcstDspthDocInfoService/WidOverlandForecast?\"\n",
    "response = requests.get(info_url+ \"ServiceKey=\" + ServiceKey + \"regid=\" + regid)"
   ]
  },
  {
   "cell_type": "code",
   "execution_count": 6,
   "metadata": {},
   "outputs": [
    {
     "name": "stdout",
     "output_type": "stream",
     "text": [
      "<?xml version=\"1.0\" encoding=\"UTF-8\" standalone=\"yes\"?><response><header><resultCode>30</resultCode><resultMsg>SERVICE KEY IS NOT REGISTERED ERROR.</resultMsg></header></response>\n"
     ]
    }
   ],
   "source": [
    "print(response.text)"
   ]
  },
  {
   "cell_type": "code",
   "execution_count": 35,
   "metadata": {
    "collapsed": true
   },
   "outputs": [
    {
     "name": "stdout",
     "output_type": "stream",
     "text": [
      "서울 : 맑음\n",
      "인천 : 맑음\n",
      "수원 : 맑음\n",
      "파주 : 맑음\n",
      "이천 : 맑음\n",
      "평택 : 맑음\n",
      "백령도 : 맑음\n",
      "과천 : 맑음\n",
      "광명 : 맑음\n",
      "강화 : 맑음\n",
      "김포 : 맑음\n",
      "시흥 : 맑음\n",
      "안산 : 맑음\n",
      "부천 : 맑음\n",
      "의정부 : 맑음\n",
      "고양 : 맑음\n",
      "양주 : 맑음\n",
      "동두천 : 맑음\n",
      "연천 : 맑음\n",
      "포천 : 맑음\n",
      "가평 : 맑음\n",
      "구리 : 맑음\n",
      "남양주 : 맑음\n",
      "양평 : 맑음\n",
      "하남 : 맑음\n",
      "안양 : 맑음\n",
      "오산 : 맑음\n",
      "화성 : 맑음\n",
      "성남 : 맑음\n",
      "의왕 : 맑음\n",
      "군포 : 맑음\n",
      "안성 : 맑음\n",
      "용인 : 맑음\n",
      "광주 : 맑음\n",
      "여주 : 맑음\n"
     ]
    }
   ],
   "source": [
    "for location in locations:\n",
    "    province = location.find('city')\n",
    "    weather = location.find('wf')\n",
    "    print(str(province.text) + \" : \" + str(weather.text))"
   ]
  },
  {
   "cell_type": "code",
   "execution_count": null,
   "metadata": {},
   "outputs": [],
   "source": []
  }
 ],
 "metadata": {
  "kernelspec": {
   "display_name": "Python 3",
   "language": "python",
   "name": "python3"
  },
  "language_info": {
   "codemirror_mode": {
    "name": "ipython",
    "version": 3
   },
   "file_extension": ".py",
   "mimetype": "text/x-python",
   "name": "python",
   "nbconvert_exporter": "python",
   "pygments_lexer": "ipython3",
   "version": "3.7.1"
  }
 },
 "nbformat": 4,
 "nbformat_minor": 2
}
